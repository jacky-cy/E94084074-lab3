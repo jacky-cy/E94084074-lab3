{
 "cells": [
  {
   "cell_type": "code",
   "execution_count": 4,
   "metadata": {},
   "outputs": [],
   "source": [
    "import pygame\n",
    "import math\n",
    "\n",
    "pygame.init()\n",
    "\n",
    "win = pygame.display.set_mode((1024, 800))\n",
    "clock = pygame.time.Clock()\n",
    "\n",
    "point_A = (50, 100)\n",
    "point_B = (800, 400)\n",
    "x, y = point_A  # initial coordinate\n",
    "counter = 0  # define a counter to count the footstep\n",
    "\n",
    "\n",
    "def move(p_A, p_B):\n",
    "    global x, y, counter\n",
    "    stride = 1\n",
    "    ax, ay = p_A  # x, y position of point A\n",
    "    bx, by = p_B\n",
    "    distance_A_B = math.sqrt((ax - bx)**2 + (ay - by)**2)\n",
    "    max_count = int(distance_A_B / stride)  # total footsteps that needed from A to B\n",
    "\n",
    "    if counter < max_count:\n",
    "        unit_vector_x = (bx - ax) / distance_A_B\n",
    "        unit_vector_y = (by - ay) / distance_A_B\n",
    "        delta_x = unit_vector_x * stride\n",
    "        delta_y = unit_vector_y * stride\n",
    "\n",
    "        # update the coordinate and the counter\n",
    "        x += delta_x\n",
    "        y += delta_y\n",
    "        counter += 1\n",
    "     \n",
    "\n",
    "run = True\n",
    "while run:\n",
    "    clock.tick(60)\n",
    "    for event in pygame.event.get():\n",
    "        if event.type == pygame.QUIT:\n",
    "            run = False\n",
    "\n",
    "    move(point_A, point_B)\n",
    "    win.fill((255, 255, 255))\n",
    "    pygame.draw.circle(win, (255, 0, 0), point_A, 5)\n",
    "    pygame.draw.circle(win, (255, 0, 0), point_B, 5)\n",
    "    # draw the moving object\n",
    "    pygame.draw.rect(win, (0, 0, 0), [x, y, 50, 50])\n",
    "    pygame.display.update()\n",
    "pygame.quit()\n"
   ]
  },
  {
   "cell_type": "code",
   "execution_count": null,
   "metadata": {},
   "outputs": [],
   "source": []
  }
 ],
 "metadata": {
  "kernelspec": {
   "display_name": "Python 3",
   "language": "python",
   "name": "python3"
  },
  "language_info": {
   "codemirror_mode": {
    "name": "ipython",
    "version": 3
   },
   "file_extension": ".py",
   "mimetype": "text/x-python",
   "name": "python",
   "nbconvert_exporter": "python",
   "pygments_lexer": "ipython3",
   "version": "3.8.8"
  }
 },
 "nbformat": 4,
 "nbformat_minor": 4
}
