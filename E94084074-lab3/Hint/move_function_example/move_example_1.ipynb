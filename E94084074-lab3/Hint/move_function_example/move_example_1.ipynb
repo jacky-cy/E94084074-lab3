{
 "cells": [
  {
   "cell_type": "code",
   "execution_count": 1,
   "metadata": {},
   "outputs": [
    {
     "name": "stdout",
     "output_type": "stream",
     "text": [
      "pygame 2.0.1 (SDL 2.0.14, Python 3.8.8)\n",
      "Hello from the pygame community. https://www.pygame.org/contribute.html\n"
     ]
    }
   ],
   "source": [
    "import pygame\n",
    "\n",
    "pygame.init()\n",
    "win = pygame.display.set_mode((1024, 800))\n",
    "clock = pygame.time.Clock()\n",
    "\n",
    "# coordinate of the rect surface\n",
    "x = 0\n",
    "y = 100\n",
    "\n",
    "run = True\n",
    "while run:\n",
    "    clock.tick(60)\n",
    "    for event in pygame.event.get():\n",
    "        if event.type == pygame.QUIT:\n",
    "            run = False\n",
    "    # update the coordinate each frame\n",
    "    x += 2\n",
    "    y += 1\n",
    "\n",
    "    # draw\n",
    "    win.fill((0, 0, 0))\n",
    "    pygame.draw.rect(win, (255, 255, 255), [x, y, 50, 50])\n",
    "    pygame.display.update()\n",
    "pygame.quit()"
   ]
  },
  {
   "cell_type": "code",
   "execution_count": null,
   "metadata": {},
   "outputs": [],
   "source": []
  }
 ],
 "metadata": {
  "kernelspec": {
   "display_name": "Python 3",
   "language": "python",
   "name": "python3"
  },
  "language_info": {
   "codemirror_mode": {
    "name": "ipython",
    "version": 3
   },
   "file_extension": ".py",
   "mimetype": "text/x-python",
   "name": "python",
   "nbconvert_exporter": "python",
   "pygments_lexer": "ipython3",
   "version": "3.8.8"
  }
 },
 "nbformat": 4,
 "nbformat_minor": 4
}
