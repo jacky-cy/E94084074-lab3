{
 "cells": [
  {
   "cell_type": "code",
   "execution_count": 5,
   "metadata": {},
   "outputs": [],
   "source": [
    "import pygame\n",
    "\n",
    "pygame.init()\n",
    "win = pygame.display.set_mode((1024, 600))\n",
    "clock = pygame.time.Clock()\n",
    "points = []\n",
    "# coordinate of the rect surface\n",
    "background_image = pygame.transform.scale(pygame.image.load(\"images/Map.png\"), (1024, 600))\n",
    "run = True\n",
    "while run:\n",
    "    clock.tick(60)\n",
    "    for event in pygame.event.get():\n",
    "        if event.type == pygame.QUIT:\n",
    "            run = False\n",
    "        if event.type == pygame.MOUSEBUTTONDOWN:\n",
    "            x, y = pygame.mouse.get_pos()\n",
    "            points.append((x, y))\n",
    "\n",
    "    # draw window\n",
    "    win.fill((0, 0, 0))\n",
    "    win.blit(background_image,(0,0))\n",
    "    # draw point\n",
    "    for p in points:\n",
    "        pygame.draw.circle(win, (255, 0, 0), p, 5)\n",
    "    pygame.display.update()\n",
    "pygame.quit()\n",
    "\n",
    "with open('path_point.txt', 'w') as f:\n",
    "    f.write(f\"{points}\")"
   ]
  },
  {
   "cell_type": "code",
   "execution_count": null,
   "metadata": {},
   "outputs": [],
   "source": []
  }
 ],
 "metadata": {
  "kernelspec": {
   "display_name": "Python 3",
   "language": "python",
   "name": "python3"
  },
  "language_info": {
   "codemirror_mode": {
    "name": "ipython",
    "version": 3
   },
   "file_extension": ".py",
   "mimetype": "text/x-python",
   "name": "python",
   "nbconvert_exporter": "python",
   "pygments_lexer": "ipython3",
   "version": "3.8.8"
  }
 },
 "nbformat": 4,
 "nbformat_minor": 4
}
